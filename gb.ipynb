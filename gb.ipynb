{
 "cells": [
  {
   "cell_type": "code",
   "execution_count": null,
   "id": "1e475850",
   "metadata": {},
   "outputs": [],
   "source": [
    "#Simulation for grid"
   ]
  },
  {
   "cell_type": "code",
   "execution_count": null,
   "id": "982f2424",
   "metadata": {},
   "outputs": [],
   "source": [
    "import csv\n",
    "from datetime import datetime, timedelta\n",
    "import calendar\n",
    "import matplotlib.pyplot as plt"
   ]
  },
  {
   "cell_type": "code",
   "execution_count": null,
   "id": "3c8c407a",
   "metadata": {},
   "outputs": [],
   "source": [
    "fileName='rel.csv'"
   ]
  },
  {
   "cell_type": "code",
   "execution_count": null,
   "id": "b9194cad",
   "metadata": {},
   "outputs": [],
   "source": [
    "#Remaining cash\n",
    "remCash=200000\n",
    "#Current stock quanity\n",
    "currStocks=0\n",
    "#trade quanitiy\n",
    "tQ=10\n",
    "#Grid gap \n",
    "gG=10\n",
    "#Number of Grids on each side\n",
    "nG=5\n",
    "#Orders\n",
    "orders=[]\n",
    "#Past orders\n",
    "pastOrders=[]\n",
    "#Reference price. To decide buy vs sell\n",
    "rP=2000\n",
    "#lower limit\n",
    "gL=rP-gG*nG\n",
    "#upper limit\n",
    "gU=rP+gG*nG"
   ]
  },
  {
   "cell_type": "code",
   "execution_count": null,
   "id": "bccf8f6d",
   "metadata": {},
   "outputs": [],
   "source": [
    "data=[]\n",
    "with open(fileName) as f:\n",
    "    reader=csv.DictReader(f)\n",
    "    for rows in reader:\n",
    "        data.append(rows)\n",
    "        \n",
    "#Parse date\n",
    "for d in data[1:]:\n",
    "    d['Date']=datetime.strptime(d['Date'],\"%d-%b-%Y\")"
   ]
  },
  {
   "cell_type": "code",
   "execution_count": null,
   "id": "b0090a29",
   "metadata": {},
   "outputs": [],
   "source": [
    "dataStart=min([row['Date'] for row in data[1:]])\n",
    "dataEnd=max([row['Date'] for row in data[1:]])\n",
    "print(f'Data startDate={dataStart} and endDate={dataEnd}')\n",
    "#Analysis range\n",
    "startDate=datetime(2021,1,1)\n",
    "endDate=datetime(2021,6,1)\n",
    "#filter data for required range\n",
    "targetData=list(filter(lambda x:x['Date']>startDate and x['Date']<endDate,data[1:]))"
   ]
  },
  {
   "cell_type": "code",
   "execution_count": null,
   "id": "520b7385",
   "metadata": {},
   "outputs": [],
   "source": [
    "def float_range(start, stop, step):\n",
    "  while start < stop:\n",
    "    yield float(start)\n",
    "    start += float(step)"
   ]
  },
  {
   "cell_type": "code",
   "execution_count": null,
   "id": "90ed0f1c",
   "metadata": {},
   "outputs": [],
   "source": [
    "#Data preview\n",
    "dates=[row['Date'] for row in targetData]\n",
    "openPrice=[float(row['Open Price']) for row in targetData]\n",
    "closePrice=[float(row['Close Price']) for row in targetData]\n",
    "\n",
    "highPrice=[float(row['High Price']) for row in targetData]\n",
    "lowPrice=[float(row['Low Price']) for row in targetData]\n",
    "\n",
    "x=dates\n",
    "y=openPrice\n",
    "\n",
    "fig,ax=plt.subplots()\n",
    "fig.set_size_inches(15, 8)\n",
    "ax.set_title(data[0]['Symbol'],fontsize=24)\n",
    "ax.set_xlabel('Time',fontsize=14)\n",
    "ax.set_ylabel('Price',fontsize=14)\n",
    "ax.plot(x,y,linewidth=3)\n",
    "#ax.plot(x,closePrice,linewidth=3,ls='--')\n",
    "ax.plot(x,highPrice,linewidth=3,c='red',ls='--')\n",
    "ax.plot(x,lowPrice,linewidth=3,c='blue',ls='--')\n",
    "for i in float_range(gL,gU,gG):\n",
    "    ax.axhline(y=i,c='red',ls='--')"
   ]
  },
  {
   "cell_type": "code",
   "execution_count": null,
   "id": "22297e9b",
   "metadata": {},
   "outputs": [],
   "source": [
    "def placeOrders(cP):\n",
    "    global remCash,currStocks\n",
    "    if(cP<gL or cP>gU):\n",
    "        print('Exiting trade as price is outside the grid')\n",
    "        return\n",
    "    \n",
    "    #Put buy orders below current price\n",
    "    refBuyPrice=gL+((cP-gL)//gG)*gG\n",
    "    for i in range(1,2):\n",
    "        tStamp=datetime.now()\n",
    "        buyPrice=refBuyPrice-i*gG\n",
    "        if(buyPrice<gL):\n",
    "            print(f'Exiting trade as range is outside the grid @ {datetime.now()}')\n",
    "            return\n",
    "        cashRequired=tQ*buyPrice\n",
    "        print(f'gridMatchPrice={refBuyPrice} buyPrice={buyPrice} cashRequired={cashRequired} @{tStamp}')\n",
    "        if(remCash>cashRequired):\n",
    "            orders.append({'type':'BUY','quantity':tQ,'price':buyPrice,'timeStamp':str(tStamp)})\n",
    "            remCash=remCash-cashRequired\n",
    "            print(f'Added buy @{buyPrice} remainingCash={remCash} @{tStamp}')\n",
    "        else:\n",
    "            print(f'Out of cash for lot buy. Cash left={remCash} @{tStamp}')\n",
    "\n",
    "    #Put sell orders above current price \n",
    "    if(currStocks<tQ):\n",
    "        print(f'Exiting as not enough stocks to trade. currentStocks={currStocks} @ {datetime.now()}')\n",
    "        return\n",
    "    refSellPrice=gU-((gU-cP)//gG)*gG\n",
    "    \n",
    "    for i in range(1,2):\n",
    "        tStamp=datetime.now()\n",
    "        sellPrice=refSellPrice+i*gG\n",
    "        if(sellPrice>gU):\n",
    "            print(f'Exiting trade as range is outside the grid @ {datetime.now()}')\n",
    "            return\n",
    "        potentialEarnings=tQ*sellPrice\n",
    "        print(f'gridMatchPrice={refSellPrice} sellPrice={sellPrice} *earnings={potentialEarnings} @{tStamp}')\n",
    "        if(currStocks>=tQ):\n",
    "            orders.append({'type':'SELL','quantity':tQ,'price':sellPrice,'timeStamp':str(tStamp)})\n",
    "            currStocks=currStocks-tQ\n",
    "            print(f'Added sell @{sellPrice} remainingStocks={currStocks} @{tStamp}')\n",
    "        else:\n",
    "            print(f'Waiting as less than lot stocks to trade @{tStamp}')"
   ]
  },
  {
   "cell_type": "code",
   "execution_count": null,
   "id": "d9feefd9",
   "metadata": {},
   "outputs": [],
   "source": [
    "def processOrders(ohlc):\n",
    "    global remCash,currStocks\n",
    "    for o in orders:\n",
    "        if(o.get('status','')=='Executed'):\n",
    "            return\n",
    "        tradePrice=o['price']\n",
    "        quantity=o['quantity']\n",
    "        orderType=o['type']\n",
    "        if(tradePrice>=float(ohlc['Low Price']) and tradePrice<=float(ohlc['High Price'])):\n",
    "            o['status']='Executed'\n",
    "            if(orderType=='BUY'):\n",
    "                currStocks=currStocks+quantity\n",
    "            else:\n",
    "                currStocks=currStocks-quantity\n",
    "                remCash=remCash+tradePrice*quantity\n",
    "            print(f'Order type={orderType} processed for price={tradePrice}')\n",
    "        else:\n",
    "            print(f'Order type={orderType} for price={tradePrice} not processed')"
   ]
  },
  {
   "cell_type": "code",
   "execution_count": null,
   "id": "4a4d859b",
   "metadata": {},
   "outputs": [],
   "source": [
    "def clearPendingOrders():\n",
    "    global remCash,currStocks,orders,pastOrders\n",
    "    for o in orders:\n",
    "        #pastOrders.append(o)\n",
    "        if(o.get('status','')!='Executed'):\n",
    "            if(o['type']=='BUY'):\n",
    "                remCash=remCash+o['quantity']*o['price']\n",
    "            else:\n",
    "                currStocks=currStocks+o['quantity']\n",
    "    orders=[]"
   ]
  },
  {
   "cell_type": "code",
   "execution_count": null,
   "id": "f21e78bf",
   "metadata": {},
   "outputs": [],
   "source": [
    "def getTrades(b,s,status):\n",
    "    for i,po in enumerate(pastOrders):\n",
    "        for o in po:\n",
    "            if o.get('status','')==status:\n",
    "                continue\n",
    "            if(o.get('type','')=='BUY'):\n",
    "                b.append((i,o['price']))\n",
    "            else:\n",
    "                s.append((i,o.get('price',0)))\n"
   ]
  },
  {
   "cell_type": "code",
   "execution_count": null,
   "id": "7c0fc100",
   "metadata": {},
   "outputs": [],
   "source": [
    "#Run on prices\n",
    "for i,o in enumerate(targetData,start=1):\n",
    "    placeOrders(float(o['Open Price']))\n",
    "    processOrders(o)\n",
    "    #processOrders({'Low':o['Low'],'High':o['High']})\n",
    "    pastOrders.append(orders)\n",
    "    clearPendingOrders()\n",
    "    #print(f'{i} in {o}')"
   ]
  },
  {
   "cell_type": "code",
   "execution_count": null,
   "id": "967f9ff3",
   "metadata": {},
   "outputs": [],
   "source": [
    "def showRun():\n",
    "    #bot buy \\ sell orders\n",
    "    bo=[]\n",
    "    so=[]\n",
    "    getTrades(bo,so,'')\n",
    "\n",
    "    #trade buy \\ sell executions\n",
    "    tb=[]\n",
    "    ts=[]\n",
    "    getTrades(tb,ts,'Executed')\n",
    "\n",
    "    fig,ax=plt.subplots()\n",
    "    fig.set_size_inches(15, 8)\n",
    "    x=dates\n",
    "    y=openPrice\n",
    "    ax.set_title(targetData[0]['Symbol'],fontsize=24)\n",
    "    ax.set_xlabel('Time',fontsize=14)\n",
    "    ax.set_ylabel('Price',fontsize=14)\n",
    "    td=timedelta(hours=1)\n",
    "    for b in bo:\n",
    "        ax.scatter(dates[b[0]] - td,b[1],c='orange',alpha=1,s=200)\n",
    "    for s in so:\n",
    "        ax.scatter(dates[s[0]] + td,s[1],marker='^',c='blue',alpha=1,s=200)\n",
    "\n",
    "    for b in tb:\n",
    "        ax.scatter(dates[b[0]],b[1],c='green',alpha=1,s=200)\n",
    "    for s in ts:\n",
    "        ax.scatter(dates[s[0]],s[1],marker='^',c='red',alpha=1,s=200)    \n",
    "\n",
    "    ax.plot(x,y,linewidth=3)\n",
    "    for i in float_range(gL,gU,gG):\n",
    "        ax.axhline(y=i,c='grey',ls='dotted')\n",
    "\n",
    "    #add legend\n",
    "    plt.scatter([], [], c='orange',s=200,label='Bot buy bid')    \n",
    "    plt.scatter([], [], c='blue', marker='^',s=200,label='Bot sell bid')    \n",
    "    plt.scatter([], [], c='green', s=200,label='Buy executed')    \n",
    "    plt.scatter([], [], c='red', marker='^',s=200,label='Sell executed')    \n",
    "    plt.legend(scatterpoints=1, frameon=False, labelspacing=1, title='Legend')\n",
    "    ax.plot(x,highPrice,linewidth=3,c='pink',ls='--')\n",
    "    ax.plot(x,lowPrice,linewidth=3,c='blue',ls='--')\n",
    "    #ax.tick_params(axis='x', rotation=30)"
   ]
  },
  {
   "cell_type": "code",
   "execution_count": null,
   "id": "4e20955b",
   "metadata": {},
   "outputs": [],
   "source": [
    "showRun()"
   ]
  },
  {
   "cell_type": "code",
   "execution_count": null,
   "id": "f999712c",
   "metadata": {},
   "outputs": [],
   "source": [
    "all_orders=list(filter(lambda x:x.get('status','')=='Executed',[o for p in pastOrders for o in p]))\n",
    "b=0\n",
    "s=0\n",
    "for o in all_orders:\n",
    "    value=o['price']*o['quantity']\n",
    "    if o['type']=='BUY':\n",
    "        b=b+value\n",
    "    else:\n",
    "        s=s+value\n",
    "print(f'buy={b} sell={s}')\n",
    "b-s"
   ]
  },
  {
   "cell_type": "code",
   "execution_count": null,
   "id": "5be310a3",
   "metadata": {},
   "outputs": [],
   "source": [
    "from pandas import DataFrame\n",
    "df=DataFrame(all_orders)\n",
    "df[['type','quantity','price']]"
   ]
  }
 ],
 "metadata": {
  "kernelspec": {
   "display_name": "Python 3",
   "language": "python",
   "name": "python3"
  },
  "language_info": {
   "codemirror_mode": {
    "name": "ipython",
    "version": 3
   },
   "file_extension": ".py",
   "mimetype": "text/x-python",
   "name": "python",
   "nbconvert_exporter": "python",
   "pygments_lexer": "ipython3",
   "version": "3.9.4"
  }
 },
 "nbformat": 4,
 "nbformat_minor": 5
}
